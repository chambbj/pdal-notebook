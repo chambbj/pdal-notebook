{
 "cells": [
  {
   "cell_type": "markdown",
   "metadata": {},
   "source": [
    "# Point Cloud Processing with Python\n",
    "\n",
    "##### Bradley J Chambers\n",
    "\n",
    "## PDAL Command Line Application\n",
    "\n",
    "The PDAL command line application is available to users of Windows, Linux and macOS operating systems. The CLI notebook covers some of the basics of using the PDAL application and its various subcommands.\n",
    "\n",
    "- CLI\n",
    "\n",
    "## PDAL Python Extension\n",
    "\n",
    "The quickstart notebook provides an overview of PDAL's Python extension, demonstrating \n",
    "\n",
    "- [Quickstart](./quickstart.ipynb)\n",
    "\n",
    "## Examples\n",
    "\n",
    "### Pure PDAL\n",
    "\n",
    "- [K-Nearest Neighbors 2D](./knn-2d/knn-2d.ipynb)\n",
    "\n",
    "### Python\n",
    "\n",
    "- [DMP](./differential-morphological-profiles/DMP.ipynb)\n",
    "- [Outliers](./outlier-detection/Outlier Detection.ipynb)\n",
    "- Clipping with overlay and VRT\n",
    "- DTM\n",
    "- Colorization\n",
    "- Boundary\n",
    "- Density\n",
    "- Ground\n",
    "- Thinning\n",
    "- Georeferencing\n",
    "- Python Histogram\n",
    "- Compression\n",
    "- Greyhound\n",
    "- Reprojection"
   ]
  },
  {
   "cell_type": "code",
   "execution_count": null,
   "metadata": {},
   "outputs": [],
   "source": []
  }
 ],
 "metadata": {
  "kernelspec": {
   "display_name": "Python 3",
   "language": "python",
   "name": "python3"
  },
  "language_info": {
   "codemirror_mode": {
    "name": "ipython",
    "version": 3
   },
   "file_extension": ".py",
   "mimetype": "text/x-python",
   "name": "python",
   "nbconvert_exporter": "python",
   "pygments_lexer": "ipython3",
   "version": "3.6.5"
  }
 },
 "nbformat": 4,
 "nbformat_minor": 2
}
