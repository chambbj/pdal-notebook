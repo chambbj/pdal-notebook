{
 "cells": [
  {
   "cell_type": "markdown",
   "metadata": {},
   "source": [
    "# Removing noise\n",
    "This tutorial is meant to walk through the use of and theory behind PDAL's `outlier` filter.\n",
    "\n",
    "- Statistical Outlier Filter\n",
    "- Radius Outlier Filter\n",
    "\n",
    "## Statistical Outlier Filter\n",
    "\n",
    "### Theory\n",
    "The basic idea of a statistical outlier removal has been implemented in both [PCL](http://www.pointclouds.org/documentation/tutorials/statistical_outlier.php#statistical-outlier-removal) and [PDAL](https://www.pdal.io/stages/filters.outlier.html).\n",
    "\n",
    "We begin by computing the mean distance $\\mu_i$ to each of the $k$ nearest neighbors for each point.\n",
    "\n",
    "Next, we compute the global mean\n",
    "\n",
    "$$\\overline{\\mu} = \\frac{1}{N} \\sum_{i=1}^N \\mu_i$$\n",
    "\n",
    "and standard deviation\n",
    "\n",
    "$$\\sigma = \\sqrt{\\frac{1}{N-1} \\sum_{i=1}^N (\\mu_i - \\overline{\\mu})^2}$$\n",
    "\n",
    "of the pointwise mean distances.\n",
    "\n",
    "A threshold is then formed by\n",
    "\n",
    "$$\\overline{\\mu} + 3\\sigma$$\n",
    "\n",
    "Any point whose mean distance $\\mu_i$ exceeds this threshold is then labeled as noise."
   ]
  },
  {
   "cell_type": "code",
   "execution_count": 1,
   "metadata": {},
   "outputs": [],
   "source": [
    "%matplotlib inline"
   ]
  },
  {
   "cell_type": "code",
   "execution_count": 2,
   "metadata": {},
   "outputs": [],
   "source": [
    "from __future__ import print_function\n",
    "\n",
    "import matplotlib.pyplot as plt\n",
    "import numpy as np\n",
    "import pdal"
   ]
  },
  {
   "cell_type": "code",
   "execution_count": 3,
   "metadata": {},
   "outputs": [],
   "source": [
    "import seaborn as sns\n",
    "sns.set(color_codes=True)\n",
    "sns.set_context(\"talk\")"
   ]
  },
  {
   "cell_type": "code",
   "execution_count": 4,
   "metadata": {},
   "outputs": [],
   "source": [
    "np.random.seed(sum(map(ord, \"aesthetics\")))"
   ]
  },
  {
   "cell_type": "markdown",
   "metadata": {},
   "source": [
    "#### Reading the data\n",
    "Even when not processing data, we can still use a PDAL pipeline to read the data into a NumPy array."
   ]
  },
  {
   "cell_type": "code",
   "execution_count": 5,
   "metadata": {},
   "outputs": [],
   "source": [
    "json = u'''\n",
    "{\n",
    "  \"pipeline\":[\n",
    "    {\n",
    "      \"type\":\"readers.las\",\n",
    "      \"filename\":\"https://github.com/PDAL/data/blob/master/isprs/samp11-utm.laz?raw=true\"\n",
    "    }\n",
    "  ]\n",
    "}'''"
   ]
  },
  {
   "cell_type": "code",
   "execution_count": 6,
   "metadata": {},
   "outputs": [
    {
     "data": {
      "text/plain": [
       "38010"
      ]
     },
     "execution_count": 6,
     "metadata": {},
     "output_type": "execute_result"
    }
   ],
   "source": [
    "p = pdal.Pipeline(json)\n",
    "p.validate()\n",
    "p.execute()"
   ]
  },
  {
   "cell_type": "code",
   "execution_count": 7,
   "metadata": {},
   "outputs": [],
   "source": [
    "data = p.arrays[0]"
   ]
  },
  {
   "cell_type": "markdown",
   "metadata": {},
   "source": [
    "Import the scipy spatial package which provides KDTree construction and query capability."
   ]
  },
  {
   "cell_type": "code",
   "execution_count": 8,
   "metadata": {},
   "outputs": [],
   "source": [
    "from scipy import spatial"
   ]
  },
  {
   "cell_type": "markdown",
   "metadata": {},
   "source": [
    "Construct the KDTree using the X, Y, and Z dimensions."
   ]
  },
  {
   "cell_type": "code",
   "execution_count": 9,
   "metadata": {},
   "outputs": [],
   "source": [
    "import pandas as pd\n",
    "df = pd.DataFrame(data, columns=['X','Y','Z'])\n",
    "tree = spatial.cKDTree(df)"
   ]
  },
  {
   "cell_type": "markdown",
   "metadata": {},
   "source": [
    "Initialize an array to collect the mean distance to the eight nearest neighbors of each point.\n",
    "\n",
    "Using each point in the dataset as the query point, we search for nine nearest neighbors, as the query point itself will always be the first returned value, with a distance of 0."
   ]
  },
  {
   "cell_type": "code",
   "execution_count": 10,
   "metadata": {},
   "outputs": [],
   "source": [
    "dists = []\n",
    "for _, point in df.iterrows():\n",
    "    dist, idx = tree.query(point,k=9)\n",
    "    dists = np.append(dists, dist[1:].mean())"
   ]
  },
  {
   "cell_type": "markdown",
   "metadata": {},
   "source": [
    "Plot the kernel density of all of the mean distances."
   ]
  },
  {
   "cell_type": "code",
   "execution_count": 11,
   "metadata": {},
   "outputs": [
    {
     "data": {
      "image/png": "[encoded data removed]",
      "text/plain": [
       "<Figure size 432x288 with 1 Axes>"
      ]
     },
     "metadata": {},
     "output_type": "display_data"
    }
   ],
   "source": [
    "sns.kdeplot(dists,cut=0,shade=True);"
   ]
  },
  {
   "cell_type": "markdown",
   "metadata": {},
   "source": [
    "We compute a threshold of that is the mean distance plus three standard deviations."
   ]
  },
  {
   "cell_type": "code",
   "execution_count": 12,
   "metadata": {},
   "outputs": [],
   "source": [
    "threshold = dists.mean()+3*dists.std()"
   ]
  },
  {
   "cell_type": "code",
   "execution_count": 13,
   "metadata": {},
   "outputs": [
    {
     "name": "stdout",
     "output_type": "stream",
     "text": [
      "241 points detected with a mean distance exceeding the global threshold of 3.8176351696701722\n"
     ]
    }
   ],
   "source": [
    "noise = dists[dists>threshold]\n",
    "signal = dists[dists<=threshold]\n",
    "print(noise.size, \"points detected with a \"\n",
    "      \"mean distance exceeding the global threshold of\", threshold)"
   ]
  },
  {
   "cell_type": "markdown",
   "metadata": {},
   "source": [
    "Plot the kernel density of only those points whose mean distance falls below the threshold."
   ]
  },
  {
   "cell_type": "code",
   "execution_count": 14,
   "metadata": {},
   "outputs": [
    {
     "data": {
      "image/png": "[encoded data removed]",
      "text/plain": [
       "<Figure size 432x288 with 1 Axes>"
      ]
     },
     "metadata": {},
     "output_type": "display_data"
    }
   ],
   "source": [
    "sns.kdeplot(signal,cut=0,shade=True);"
   ]
  },
  {
   "cell_type": "markdown",
   "metadata": {},
   "source": [
    "### PDAL Pipeline\n",
    "Now that we've looked at the basic theory, we will look at how to invoke this as part of a pipeline.\n",
    "\n",
    "#### Assign\n",
    "\n",
    "Because our data may have other classifications, we will first reset all classifications to 0 with PDAL's `assign` filter. In this context, we only do this so that we may more easily visualize the noise classifications that are generated by the `outlier` filter.\n",
    "\n",
    "```json\n",
    "{\n",
    "  \"type\":\"filters.assign\",\n",
    "  \"assignment\":\"Classification[:]=0\"\n",
    "}\n",
    "```\n",
    "\n",
    "#### Outlier\n",
    "\n",
    "The PDAL outlier filter does most of the work for this operation. We have described above the theory behind the statistical outlier filter, using eight neighbors, and setting the threshold at the global mean plus three standard deviations.\n",
    "\n",
    "```json\n",
    "{\n",
    "  \"type\": \"filters.outlier\",\n",
    "  \"method\": \"statistical\",\n",
    "  \"multiplier\": 3,\n",
    "  \"mean_k\": 8\n",
    "}\n",
    "```"
   ]
  },
  {
   "cell_type": "code",
   "execution_count": 17,
   "metadata": {},
   "outputs": [],
   "source": [
    "json = u'''\n",
    "{\n",
    "  \"pipeline\":[\n",
    "    {\n",
    "      \"type\":\"readers.las\",\n",
    "      \"filename\":\"https://github.com/PDAL/data/blob/master/isprs/samp11-utm.laz?raw=true\"\n",
    "    },\n",
    "    {\n",
    "      \"type\":\"filters.assign\",\n",
    "      \"assignment\":\"Classification[:]=0\"\n",
    "    },\n",
    "    {\n",
    "      \"type\": \"filters.outlier\",\n",
    "      \"method\": \"statistical\",\n",
    "      \"multiplier\": 3,\n",
    "      \"mean_k\": 8\n",
    "    }\n",
    "  ]\n",
    "}'''"
   ]
  },
  {
   "cell_type": "markdown",
   "metadata": {},
   "source": [
    "Create and execute the new pipeline."
   ]
  },
  {
   "cell_type": "code",
   "execution_count": 18,
   "metadata": {},
   "outputs": [
    {
     "name": "stdout",
     "output_type": "stream",
     "text": [
      "(pypipeline readers.las Debug) Executing pipeline in standard mode.\n",
      "(pypipeline filters.outlier Debug) \t\tLabeled 241 outliers as noise!\n",
      "\n"
     ]
    }
   ],
   "source": [
    "p = pdal.Pipeline(json)\n",
    "p.validate()\n",
    "p.loglevel = 8\n",
    "p.execute()\n",
    "print(p.log)\n",
    "data = p.arrays[0]"
   ]
  },
  {
   "cell_type": "code",
   "execution_count": 19,
   "metadata": {},
   "outputs": [
    {
     "data": {
      "text/plain": [
       "True"
      ]
     },
     "execution_count": 19,
     "metadata": {},
     "output_type": "execute_result"
    }
   ],
   "source": [
    "json = u'''\n",
    "{\n",
    "  \"pipeline\":[\n",
    "    {\n",
    "      \"type\":\"readers.las\",\n",
    "      \"filename\":\"https://github.com/PDAL/data/blob/master/isprs/samp11-utm.laz?raw=true\"\n",
    "    },\n",
    "    {\n",
    "      \"type\":\"filters.python\",\n",
    "      \"script\":\"sor.py\",\n",
    "      \"function\":\"sor\"\n",
    "    }\n",
    "  ]\n",
    "}'''\n",
    "p = pdal.Pipeline(json)\n",
    "p.validate()"
   ]
  },
  {
   "cell_type": "code",
   "execution_count": 20,
   "metadata": {},
   "outputs": [
    {
     "data": {
      "text/plain": [
       "38010"
      ]
     },
     "execution_count": 20,
     "metadata": {},
     "output_type": "execute_result"
    }
   ],
   "source": [
    "p.execute()"
   ]
  },
  {
   "cell_type": "code",
   "execution_count": 21,
   "metadata": {},
   "outputs": [
    {
     "data": {
      "text/html": [
       "<div>\n",
       "<style scoped>\n",
       "    .dataframe tbody tr th:only-of-type {\n",
       "        vertical-align: middle;\n",
       "    }\n",
       "\n",
       "    .dataframe tbody tr th {\n",
       "        vertical-align: top;\n",
       "    }\n",
       "\n",
       "    .dataframe thead th {\n",
       "        text-align: right;\n",
       "    }\n",
       "</style>\n",
       "<table border=\"1\" class=\"dataframe\">\n",
       "  <thead>\n",
       "    <tr style=\"text-align: right;\">\n",
       "      <th></th>\n",
       "      <th>X</th>\n",
       "      <th>Y</th>\n",
       "      <th>Z</th>\n",
       "      <th>Intensity</th>\n",
       "      <th>ReturnNumber</th>\n",
       "      <th>NumberOfReturns</th>\n",
       "      <th>ScanDirectionFlag</th>\n",
       "      <th>EdgeOfFlightLine</th>\n",
       "      <th>Classification</th>\n",
       "      <th>ScanAngleRank</th>\n",
       "      <th>UserData</th>\n",
       "      <th>PointSourceId</th>\n",
       "    </tr>\n",
       "  </thead>\n",
       "  <tbody>\n",
       "    <tr>\n",
       "      <th>count</th>\n",
       "      <td>38010.000000</td>\n",
       "      <td>3.801000e+04</td>\n",
       "      <td>38010.000000</td>\n",
       "      <td>38010.000000</td>\n",
       "      <td>38010.0</td>\n",
       "      <td>38010.0</td>\n",
       "      <td>38010.0</td>\n",
       "      <td>38010.0</td>\n",
       "      <td>38010.000000</td>\n",
       "      <td>38010.0</td>\n",
       "      <td>38010.0</td>\n",
       "      <td>38010.0</td>\n",
       "    </tr>\n",
       "    <tr>\n",
       "      <th>mean</th>\n",
       "      <td>512767.010570</td>\n",
       "      <td>5.403708e+06</td>\n",
       "      <td>356.171434</td>\n",
       "      <td>0.426835</td>\n",
       "      <td>1.0</td>\n",
       "      <td>1.0</td>\n",
       "      <td>0.0</td>\n",
       "      <td>0.0</td>\n",
       "      <td>1.189608</td>\n",
       "      <td>0.0</td>\n",
       "      <td>0.0</td>\n",
       "      <td>0.0</td>\n",
       "    </tr>\n",
       "    <tr>\n",
       "      <th>std</th>\n",
       "      <td>38.570375</td>\n",
       "      <td>8.587360e+01</td>\n",
       "      <td>29.212680</td>\n",
       "      <td>0.494624</td>\n",
       "      <td>0.0</td>\n",
       "      <td>0.0</td>\n",
       "      <td>0.0</td>\n",
       "      <td>0.0</td>\n",
       "      <td>1.089034</td>\n",
       "      <td>0.0</td>\n",
       "      <td>0.0</td>\n",
       "      <td>0.0</td>\n",
       "    </tr>\n",
       "    <tr>\n",
       "      <th>min</th>\n",
       "      <td>512700.870000</td>\n",
       "      <td>5.403547e+06</td>\n",
       "      <td>295.250000</td>\n",
       "      <td>0.000000</td>\n",
       "      <td>1.0</td>\n",
       "      <td>1.0</td>\n",
       "      <td>0.0</td>\n",
       "      <td>0.0</td>\n",
       "      <td>0.000000</td>\n",
       "      <td>0.0</td>\n",
       "      <td>0.0</td>\n",
       "      <td>0.0</td>\n",
       "    </tr>\n",
       "    <tr>\n",
       "      <th>25%</th>\n",
       "      <td>512733.530000</td>\n",
       "      <td>5.403645e+06</td>\n",
       "      <td>329.060000</td>\n",
       "      <td>0.000000</td>\n",
       "      <td>1.0</td>\n",
       "      <td>1.0</td>\n",
       "      <td>0.0</td>\n",
       "      <td>0.0</td>\n",
       "      <td>0.000000</td>\n",
       "      <td>0.0</td>\n",
       "      <td>0.0</td>\n",
       "      <td>0.0</td>\n",
       "    </tr>\n",
       "    <tr>\n",
       "      <th>50%</th>\n",
       "      <td>512766.940000</td>\n",
       "      <td>5.403705e+06</td>\n",
       "      <td>356.865000</td>\n",
       "      <td>0.000000</td>\n",
       "      <td>1.0</td>\n",
       "      <td>1.0</td>\n",
       "      <td>0.0</td>\n",
       "      <td>0.0</td>\n",
       "      <td>2.000000</td>\n",
       "      <td>0.0</td>\n",
       "      <td>0.0</td>\n",
       "      <td>0.0</td>\n",
       "    </tr>\n",
       "    <tr>\n",
       "      <th>75%</th>\n",
       "      <td>512799.900000</td>\n",
       "      <td>5.403790e+06</td>\n",
       "      <td>385.860000</td>\n",
       "      <td>1.000000</td>\n",
       "      <td>1.0</td>\n",
       "      <td>1.0</td>\n",
       "      <td>0.0</td>\n",
       "      <td>0.0</td>\n",
       "      <td>2.000000</td>\n",
       "      <td>0.0</td>\n",
       "      <td>0.0</td>\n",
       "      <td>0.0</td>\n",
       "    </tr>\n",
       "    <tr>\n",
       "      <th>max</th>\n",
       "      <td>512834.760000</td>\n",
       "      <td>5.403850e+06</td>\n",
       "      <td>404.080000</td>\n",
       "      <td>1.000000</td>\n",
       "      <td>1.0</td>\n",
       "      <td>1.0</td>\n",
       "      <td>0.0</td>\n",
       "      <td>0.0</td>\n",
       "      <td>7.000000</td>\n",
       "      <td>0.0</td>\n",
       "      <td>0.0</td>\n",
       "      <td>0.0</td>\n",
       "    </tr>\n",
       "  </tbody>\n",
       "</table>\n",
       "</div>"
      ],
      "text/plain": [
       "                   X             Y             Z     Intensity  ReturnNumber  \\\n",
       "count   38010.000000  3.801000e+04  38010.000000  38010.000000       38010.0   \n",
       "mean   512767.010570  5.403708e+06    356.171434      0.426835           1.0   \n",
       "std        38.570375  8.587360e+01     29.212680      0.494624           0.0   \n",
       "min    512700.870000  5.403547e+06    295.250000      0.000000           1.0   \n",
       "25%    512733.530000  5.403645e+06    329.060000      0.000000           1.0   \n",
       "50%    512766.940000  5.403705e+06    356.865000      0.000000           1.0   \n",
       "75%    512799.900000  5.403790e+06    385.860000      1.000000           1.0   \n",
       "max    512834.760000  5.403850e+06    404.080000      1.000000           1.0   \n",
       "\n",
       "       NumberOfReturns  ScanDirectionFlag  EdgeOfFlightLine  Classification  \\\n",
       "count          38010.0            38010.0           38010.0    38010.000000   \n",
       "mean               1.0                0.0               0.0        1.189608   \n",
       "std                0.0                0.0               0.0        1.089034   \n",
       "min                1.0                0.0               0.0        0.000000   \n",
       "25%                1.0                0.0               0.0        0.000000   \n",
       "50%                1.0                0.0               0.0        2.000000   \n",
       "75%                1.0                0.0               0.0        2.000000   \n",
       "max                1.0                0.0               0.0        7.000000   \n",
       "\n",
       "       ScanAngleRank  UserData  PointSourceId  \n",
       "count        38010.0   38010.0        38010.0  \n",
       "mean             0.0       0.0            0.0  \n",
       "std              0.0       0.0            0.0  \n",
       "min              0.0       0.0            0.0  \n",
       "25%              0.0       0.0            0.0  \n",
       "50%              0.0       0.0            0.0  \n",
       "75%              0.0       0.0            0.0  \n",
       "max              0.0       0.0            0.0  "
      ]
     },
     "execution_count": 21,
     "metadata": {},
     "output_type": "execute_result"
    }
   ],
   "source": [
    "pd.DataFrame(p.arrays[0]).describe()"
   ]
  },
  {
   "cell_type": "code",
   "execution_count": 22,
   "metadata": {},
   "outputs": [],
   "source": [
    "cc = pd.DataFrame(p.arrays[0],columns=['Classification'])"
   ]
  },
  {
   "cell_type": "code",
   "execution_count": 23,
   "metadata": {},
   "outputs": [
    {
     "data": {
      "text/plain": [
       "241"
      ]
     },
     "execution_count": 23,
     "metadata": {},
     "output_type": "execute_result"
    }
   ],
   "source": [
    "len(cc[cc['Classification']==7])"
   ]
  },
  {
   "cell_type": "code",
   "execution_count": null,
   "metadata": {},
   "outputs": [],
   "source": []
  }
 ],
 "metadata": {
  "kernelspec": {
   "display_name": "Python 2",
   "language": "python",
   "name": "python2"
  },
  "language_info": {
   "codemirror_mode": {
    "name": "ipython",
    "version": 3
   },
   "file_extension": ".py",
   "mimetype": "text/x-python",
   "name": "python",
   "nbconvert_exporter": "python",
   "pygments_lexer": "ipython3",
   "version": "3.6.5"
  }
 },
 "nbformat": 4,
 "nbformat_minor": 2
}
