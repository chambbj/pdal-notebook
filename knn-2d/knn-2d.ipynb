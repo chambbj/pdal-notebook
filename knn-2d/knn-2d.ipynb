{
 "cells": [
  {
   "cell_type": "code",
   "execution_count": 8,
   "metadata": {},
   "outputs": [],
   "source": [
    "import json\n",
    "import pdal"
   ]
  },
  {
   "cell_type": "code",
   "execution_count": 3,
   "metadata": {},
   "outputs": [],
   "source": [
    "reader = {\n",
    "    \"type\":\"readers.las\",\n",
    "    \"filename\":\"https://github.com/PDAL/data/blob/master/isprs/samp11-utm.laz?raw=true\"\n",
    "}"
   ]
  },
  {
   "cell_type": "code",
   "execution_count": 4,
   "metadata": {},
   "outputs": [],
   "source": [
    "filter = {\n",
    "    \"type\":\"filters.python\",\n",
    "    \"script\":\"knn_2d.py\",\n",
    "    \"function\":\"knn_2d\",\n",
    "    \"add_dimension\":\"Density2D\"\n",
    "}"
   ]
  },
  {
   "cell_type": "code",
   "execution_count": 2,
   "metadata": {},
   "outputs": [
    {
     "name": "stdout",
     "output_type": "stream",
     "text": [
      "#/usr/bin/python\r\n",
      "\r\n",
      "# knn_2d.py\r\n",
      "### compute the 2 dimensional number of neighbors\r\n",
      "\r\n",
      "import numpy as np\r\n",
      "import scipy.spatial as spatial\r\n",
      "\r\n",
      "MAXNEIGHBORS = 250\r\n",
      "MAXDIST = 2.0\r\n",
      "\r\n",
      "def compute2dDensity(outs, ins, itm, kd_2d, data_2d):\r\n",
      "\r\n",
      "    maxDist = MAXDIST\r\n",
      "    numNbrs = MAXNEIGHBORS\r\n",
      "\r\n",
      "    pt = data_2d[itm]\r\n",
      "    nbrs = kd_2d.query(pt, k=numNbrs, distance_upper_bound=maxDist)\r\n",
      "    npts = data_2d[nbrs[1][0]]\r\n",
      "    rN = [p for p in nbrs[0] if p < np.inf]\r\n",
      "\r\n",
      "    outs['Density2D'][itm] = len(rN)\r\n",
      "  \r\n",
      "\r\n",
      "# main routine to call from PDAL\r\n",
      "def knn_2d(ins, outs):\r\n",
      "    # initialize the outs array\r\n",
      "    outs['Density2D'] = np.zeros(ins['X'].shape, dtype=np.float)\r\n",
      "\r\n",
      "    #setup 2d search\r\n",
      "    data_2d = np.dstack((ins['X'], ins['Y']))[0]\r\n",
      "    kd_2d = spatial.KDTree(data_2d, leafsize=10)\r\n",
      "\r\n",
      "    print(len(ins['X']))\r\n",
      "    for itm in range(len(ins['X'])):\r\n",
      "        compute2dDensity(outs, ins, itm, kd_2d, data_2d)\r\n",
      "\r\n",
      "    print(\"All Done\")\r\n",
      "\r\n",
      "    return True\r\n",
      "\r\n",
      "if __name__ == \"__main__\":\r\n",
      "    print(\"this must be called from a PDAL piepline\")\r\n"
     ]
    }
   ],
   "source": [
    "!cat knn_2d.py"
   ]
  },
  {
   "cell_type": "code",
   "execution_count": 5,
   "metadata": {},
   "outputs": [],
   "source": [
    "writer = {\n",
    "    \"type\":\"writers.las\",\n",
    "    \"filename\":\"filtered.las\",\n",
    "    \"extra_dims\": \"Density2D=float\",\n",
    "    \"compression\": \"off\"\n",
    "}"
   ]
  },
  {
   "cell_type": "code",
   "execution_count": 6,
   "metadata": {},
   "outputs": [],
   "source": [
    "pipeline = {\n",
    "    \"pipeline\": [reader, filter, writer]\n",
    "}"
   ]
  },
  {
   "cell_type": "code",
   "execution_count": 10,
   "metadata": {},
   "outputs": [
    {
     "data": {
      "text/plain": [
       "True"
      ]
     },
     "execution_count": 10,
     "metadata": {},
     "output_type": "execute_result"
    }
   ],
   "source": [
    "p = pdal.Pipeline(json.dumps(pipeline))\n",
    "p.validate()"
   ]
  },
  {
   "cell_type": "code",
   "execution_count": 11,
   "metadata": {},
   "outputs": [
    {
     "data": {
      "text/plain": [
       "38010"
      ]
     },
     "execution_count": 11,
     "metadata": {},
     "output_type": "execute_result"
    }
   ],
   "source": [
    "p.execute()"
   ]
  },
  {
   "cell_type": "code",
   "execution_count": 15,
   "metadata": {},
   "outputs": [
    {
     "data": {
      "text/plain": [
       "78.0"
      ]
     },
     "execution_count": 15,
     "metadata": {},
     "output_type": "execute_result"
    }
   ],
   "source": [
    "p.arrays[0]['Density2D'].max()"
   ]
  },
  {
   "cell_type": "code",
   "execution_count": null,
   "metadata": {},
   "outputs": [],
   "source": []
  }
 ],
 "metadata": {
  "kernelspec": {
   "display_name": "Python 3",
   "language": "python",
   "name": "python3"
  },
  "language_info": {
   "codemirror_mode": {
    "name": "ipython",
    "version": 3
   },
   "file_extension": ".py",
   "mimetype": "text/x-python",
   "name": "python",
   "nbconvert_exporter": "python",
   "pygments_lexer": "ipython3",
   "version": "3.6.5"
  }
 },
 "nbformat": 4,
 "nbformat_minor": 2
}
