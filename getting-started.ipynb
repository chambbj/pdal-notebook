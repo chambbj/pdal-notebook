{
 "cells": [
  {
   "cell_type": "markdown",
   "metadata": {},
   "source": [
    "# Getting Started with PDAL Notebooks"
   ]
  },
  {
   "cell_type": "markdown",
   "metadata": {},
   "source": [
    "To begin, our tutorials will use data from the `PDAL/data` [repository](https://github.com/PDAL/data) on GitHub. This exists as a submodule within our `notebooks` directory. If you cloned the `pdal-notebook` repository with `--recursive`, then you should be all set. Otherwise, take a moment to initialize and update the submodule data.\n",
    "\n",
    "```\n",
    "git submodule init\n",
    "git submodule update\n",
    "```\n",
    "\n",
    "The following example simply reads an LAZ file and returns the data as an `ndarray`. We start by importing the PDAL Python package."
   ]
  },
  {
   "cell_type": "code",
   "execution_count": 1,
   "metadata": {
    "collapsed": true
   },
   "outputs": [],
   "source": [
    "import pdal"
   ]
  },
  {
   "cell_type": "markdown",
   "metadata": {},
   "source": [
    "Next, we create our first, very simply pipeline. It specifies only the path to the input data we wish to read. In later tutorials, we will expand on the pipeline, adding filters."
   ]
  },
  {
   "cell_type": "code",
   "execution_count": 2,
   "metadata": {
    "collapsed": true
   },
   "outputs": [],
   "source": [
    "json = u'''\n",
    "{\n",
    "  \"pipeline\":[\n",
    "    \"./data/isprs/samp11-utm.laz\"\n",
    "  ]\n",
    "}'''"
   ]
  },
  {
   "cell_type": "markdown",
   "metadata": {},
   "source": [
    "Create the pipeline and check that it's valid."
   ]
  },
  {
   "cell_type": "code",
   "execution_count": 3,
   "metadata": {},
   "outputs": [
    {
     "data": {
      "text/plain": [
       "True"
      ]
     },
     "execution_count": 3,
     "metadata": {},
     "output_type": "execute_result"
    }
   ],
   "source": [
    "p = pdal.Pipeline(json)\n",
    "p.validate()"
   ]
  },
  {
   "cell_type": "markdown",
   "metadata": {},
   "source": [
    "Execute the pipeline, checking that we have read the expected number of points. (It is possible that a pipeline will return multiple `ndarrays`. Here we have only one.)"
   ]
  },
  {
   "cell_type": "code",
   "execution_count": 4,
   "metadata": {},
   "outputs": [
    {
     "name": "stdout",
     "output_type": "stream",
     "text": [
      "Read 38010 points in 1 array(s)\n"
     ]
    }
   ],
   "source": [
    "count = p.execute()\n",
    "print 'Read', count, 'points in', len(p.arrays), 'array(s)'"
   ]
  },
  {
   "cell_type": "markdown",
   "metadata": {},
   "source": [
    "Grab the first `ndarray` and display the dimension names."
   ]
  },
  {
   "cell_type": "code",
   "execution_count": 5,
   "metadata": {},
   "outputs": [
    {
     "name": "stdout",
     "output_type": "stream",
     "text": [
      "Dimension names are (u'X', u'Y', u'Z', u'Intensity', u'ReturnNumber', u'NumberOfReturns', u'ScanDirectionFlag', u'EdgeOfFlightLine', u'Classification', u'ScanAngleRank', u'UserData', u'PointSourceId')\n"
     ]
    }
   ],
   "source": [
    "data = p.arrays[0]\n",
    "print 'Dimension names are', data.dtype.names"
   ]
  }
 ],
 "metadata": {
  "kernelspec": {
   "display_name": "Python 2",
   "language": "python",
   "name": "python2"
  },
  "language_info": {
   "codemirror_mode": {
    "name": "ipython",
    "version": 2
   },
   "file_extension": ".py",
   "mimetype": "text/x-python",
   "name": "python",
   "nbconvert_exporter": "python",
   "pygments_lexer": "ipython2",
   "version": "2.7.13"
  }
 },
 "nbformat": 4,
 "nbformat_minor": 2
}
